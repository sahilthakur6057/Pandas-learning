{
 "cells": [
  {
   "cell_type": "markdown",
   "id": "c63f667b-1452-46f2-9ac8-83f702b7f504",
   "metadata": {},
   "source": [
    "### PANDAS"
   ]
  },
  {
   "cell_type": "markdown",
   "id": "b91bda5f-1213-4c0a-a160-8b27cebd79ec",
   "metadata": {},
   "source": [
    "#### Pandas is library to work with table data"
   ]
  },
  {
   "cell_type": "code",
   "execution_count": 2,
   "id": "b3dadcea-217f-457b-bee6-d7e7e62b912f",
   "metadata": {},
   "outputs": [
    {
     "name": "stdout",
     "output_type": "stream",
     "text": [
      "Requirement already satisfied: pandas in c:\\users\\user\\anaconda.apk\\lib\\site-packages (2.2.3)\n",
      "Requirement already satisfied: numpy>=1.26.0 in c:\\users\\user\\anaconda.apk\\lib\\site-packages (from pandas) (2.1.3)\n",
      "Requirement already satisfied: python-dateutil>=2.8.2 in c:\\users\\user\\anaconda.apk\\lib\\site-packages (from pandas) (2.9.0.post0)\n",
      "Requirement already satisfied: pytz>=2020.1 in c:\\users\\user\\anaconda.apk\\lib\\site-packages (from pandas) (2024.1)\n",
      "Requirement already satisfied: tzdata>=2022.7 in c:\\users\\user\\anaconda.apk\\lib\\site-packages (from pandas) (2025.2)\n",
      "Requirement already satisfied: six>=1.5 in c:\\users\\user\\anaconda.apk\\lib\\site-packages (from python-dateutil>=2.8.2->pandas) (1.17.0)\n",
      "Note: you may need to restart the kernel to use updated packages.\n"
     ]
    }
   ],
   "source": [
    "pip install pandas"
   ]
  },
  {
   "cell_type": "code",
   "execution_count": null,
   "id": "a7d54bb6-249c-4ae9-be0f-67759b14061a",
   "metadata": {},
   "outputs": [],
   "source": [
    "##### "
   ]
  },
  {
   "cell_type": "code",
   "execution_count": 3,
   "id": "3fbf6718-742f-4ea6-a901-f74cd3b3e487",
   "metadata": {},
   "outputs": [],
   "source": [
    "li = ['sahil', 'harjeet','ujwal']"
   ]
  },
  {
   "cell_type": "code",
   "execution_count": 4,
   "id": "c5a48ac3-862e-4cbe-a180-39a51a3f7540",
   "metadata": {},
   "outputs": [],
   "source": [
    "import numpy as np\n",
    "import pandas as pd"
   ]
  },
  {
   "cell_type": "code",
   "execution_count": 5,
   "id": "2ebf9b99-3f11-4633-ae6e-7f74702b7ab9",
   "metadata": {},
   "outputs": [],
   "source": [
    "a = pd.Series([li])"
   ]
  },
  {
   "cell_type": "code",
   "execution_count": 6,
   "id": "d471c770-4b0e-4a6a-b490-780afdac099e",
   "metadata": {},
   "outputs": [
    {
     "data": {
      "text/plain": [
       "0    [sahil, harjeet, ujwal]\n",
       "dtype: object"
      ]
     },
     "execution_count": 6,
     "metadata": {},
     "output_type": "execute_result"
    }
   ],
   "source": [
    "a"
   ]
  },
  {
   "cell_type": "code",
   "execution_count": null,
   "id": "02394891-b7e4-4aff-a753-79a6f36f7827",
   "metadata": {},
   "outputs": [],
   "source": []
  },
  {
   "cell_type": "code",
   "execution_count": 12,
   "id": "a18d5e55-99f3-4388-92f7-91d794346a08",
   "metadata": {},
   "outputs": [],
   "source": [
    "b = pd.Series(li, index=[\"A\",\"B\",\"C\"], name=\"name\")"
   ]
  },
  {
   "cell_type": "code",
   "execution_count": 13,
   "id": "d1a2433f-80c0-48c2-b530-914a45a01417",
   "metadata": {},
   "outputs": [
    {
     "data": {
      "text/plain": [
       "A      sahil\n",
       "B    harjeet\n",
       "C      ujwal\n",
       "Name: name, dtype: object"
      ]
     },
     "execution_count": 13,
     "metadata": {},
     "output_type": "execute_result"
    }
   ],
   "source": [
    "b"
   ]
  },
  {
   "cell_type": "code",
   "execution_count": null,
   "id": "7f08d392-78d1-4458-8540-dc134ca77d86",
   "metadata": {},
   "outputs": [],
   "source": []
  },
  {
   "cell_type": "code",
   "execution_count": 24,
   "id": "528d5123-e199-47b4-8599-8066bb2a9e34",
   "metadata": {},
   "outputs": [],
   "source": [
    "c = pd.Series([\"MATH\", \"SCIENCE\",\"ENGLISH\"], index = [\"A\",\"B\",\"C\"], name = \"SUBJECTS\")"
   ]
  },
  {
   "cell_type": "code",
   "execution_count": 25,
   "id": "fae7ed1b-4140-4c2d-83f9-63f1be7fc515",
   "metadata": {},
   "outputs": [
    {
     "data": {
      "text/plain": [
       "A       MATH\n",
       "B    SCIENCE\n",
       "C    ENGLISH\n",
       "Name: SUBJECTS, dtype: object"
      ]
     },
     "execution_count": 25,
     "metadata": {},
     "output_type": "execute_result"
    }
   ],
   "source": [
    "c"
   ]
  },
  {
   "cell_type": "code",
   "execution_count": 26,
   "id": "9942d836-4e21-4bbb-bf72-b5b7302f5415",
   "metadata": {},
   "outputs": [
    {
     "data": {
      "text/plain": [
       "'MATH'"
      ]
     },
     "execution_count": 26,
     "metadata": {},
     "output_type": "execute_result"
    }
   ],
   "source": [
    "c[\"A\"]"
   ]
  },
  {
   "cell_type": "code",
   "execution_count": 27,
   "id": "08491791-8d5d-4ab4-874e-78e7e68d0482",
   "metadata": {},
   "outputs": [
    {
     "data": {
      "text/plain": [
       "'SCIENCE'"
      ]
     },
     "execution_count": 27,
     "metadata": {},
     "output_type": "execute_result"
    }
   ],
   "source": [
    "c[\"B\"]"
   ]
  },
  {
   "cell_type": "code",
   "execution_count": 28,
   "id": "54eb0b31-16da-4672-a510-69552fa5f8f9",
   "metadata": {},
   "outputs": [
    {
     "data": {
      "text/plain": [
       "'ENGLISH'"
      ]
     },
     "execution_count": 28,
     "metadata": {},
     "output_type": "execute_result"
    }
   ],
   "source": [
    "c[\"C\"]"
   ]
  },
  {
   "cell_type": "code",
   "execution_count": null,
   "id": "8e95312e-b981-4ca9-aaae-a7ae81eb4120",
   "metadata": {},
   "outputs": [],
   "source": []
  },
  {
   "cell_type": "markdown",
   "id": "d72ad7fb-5bbd-4563-9985-c1774e6ed7af",
   "metadata": {},
   "source": [
    "#### Series with dictionary"
   ]
  },
  {
   "cell_type": "code",
   "execution_count": 29,
   "id": "f5bda2dc-c766-4cb6-861e-a4572e69b23d",
   "metadata": {},
   "outputs": [],
   "source": [
    "d = {\"city\": [\"Himachal\",\"Delhi\",\"Agra\"]}"
   ]
  },
  {
   "cell_type": "code",
   "execution_count": 30,
   "id": "2e480be0-adf0-4ac7-bcad-e28f217b1797",
   "metadata": {},
   "outputs": [
    {
     "data": {
      "text/plain": [
       "0    Himachal\n",
       "1       Delhi\n",
       "2        Agra\n",
       "Name: city, dtype: object"
      ]
     },
     "execution_count": 30,
     "metadata": {},
     "output_type": "execute_result"
    }
   ],
   "source": [
    "pd.Series(d[\"city\"], name=\"city\")"
   ]
  },
  {
   "cell_type": "code",
   "execution_count": null,
   "id": "b09e171a-0f07-4103-a45a-8cc421192c25",
   "metadata": {},
   "outputs": [],
   "source": []
  },
  {
   "cell_type": "markdown",
   "id": "b661c9fa-d1be-417f-8789-0560a23c243b",
   "metadata": {},
   "source": [
    "#### Attributes and Methods"
   ]
  },
  {
   "cell_type": "code",
   "execution_count": 32,
   "id": "55c83182-7998-44f7-817a-e3f9945ec11c",
   "metadata": {},
   "outputs": [
    {
     "data": {
      "text/plain": [
       "A      sahil\n",
       "B    harjeet\n",
       "C      ujwal\n",
       "Name: name, dtype: object"
      ]
     },
     "execution_count": 32,
     "metadata": {},
     "output_type": "execute_result"
    }
   ],
   "source": [
    "b"
   ]
  },
  {
   "cell_type": "code",
   "execution_count": 33,
   "id": "58b9a387-4d84-4695-8f24-f8aa68a85f90",
   "metadata": {},
   "outputs": [],
   "source": [
    "e = pd.Series([50,20,60], index=\"A B C\".split(), name = \"marks\")"
   ]
  },
  {
   "cell_type": "code",
   "execution_count": 34,
   "id": "bd30b6c0-5d47-4ae3-8b49-6ab446e3ce9d",
   "metadata": {},
   "outputs": [
    {
     "data": {
      "text/plain": [
       "A    50\n",
       "B    20\n",
       "C    60\n",
       "Name: marks, dtype: int64"
      ]
     },
     "execution_count": 34,
     "metadata": {},
     "output_type": "execute_result"
    }
   ],
   "source": [
    "e"
   ]
  },
  {
   "cell_type": "code",
   "execution_count": 35,
   "id": "ab7ba093-150c-41ac-8544-aaf6e6245e3f",
   "metadata": {},
   "outputs": [],
   "source": [
    "f = pd.Series([5.5,2.4,6.9], index=[\"A \",\"B\", \"C\"], name = \"Inputs\")"
   ]
  },
  {
   "cell_type": "code",
   "execution_count": 36,
   "id": "f7fcea14-89df-4a79-a665-6de981b802a7",
   "metadata": {},
   "outputs": [
    {
     "data": {
      "text/plain": [
       "A     5.5\n",
       "B     2.4\n",
       "C     6.9\n",
       "Name: Inputs, dtype: float64"
      ]
     },
     "execution_count": 36,
     "metadata": {},
     "output_type": "execute_result"
    }
   ],
   "source": [
    "f"
   ]
  },
  {
   "cell_type": "code",
   "execution_count": 38,
   "id": "aa93e647-3059-48b7-ad45-c517fc4b8add",
   "metadata": {},
   "outputs": [],
   "source": [
    "g = pd.Series([True , False], index=[\"A \",\"B\"], name = \"Inputs\")"
   ]
  },
  {
   "cell_type": "code",
   "execution_count": 39,
   "id": "c633cf8f-9db3-45d0-8248-b1bac054cd45",
   "metadata": {},
   "outputs": [
    {
     "data": {
      "text/plain": [
       "A      True\n",
       "B     False\n",
       "Name: Inputs, dtype: bool"
      ]
     },
     "execution_count": 39,
     "metadata": {},
     "output_type": "execute_result"
    }
   ],
   "source": [
    "g"
   ]
  },
  {
   "cell_type": "code",
   "execution_count": null,
   "id": "65e89375-e0a5-4df7-bb2f-d5f3511d7d00",
   "metadata": {},
   "outputs": [],
   "source": []
  },
  {
   "cell_type": "markdown",
   "id": "ebb144b5-b152-401d-bc42-a274121ba888",
   "metadata": {},
   "source": [
    "#### Methods and attributes"
   ]
  },
  {
   "cell_type": "code",
   "execution_count": 41,
   "id": "a5039664-98a8-471e-81b2-d73e69f3d511",
   "metadata": {},
   "outputs": [
    {
     "data": {
      "text/plain": [
       "A     5.5\n",
       "B     2.4\n",
       "C     6.9\n",
       "Name: Inputs, dtype: float64"
      ]
     },
     "execution_count": 41,
     "metadata": {},
     "output_type": "execute_result"
    }
   ],
   "source": [
    "f"
   ]
  },
  {
   "cell_type": "code",
   "execution_count": 42,
   "id": "9d1bb968-17bb-42ec-a7ab-b98e64c52d11",
   "metadata": {},
   "outputs": [
    {
     "data": {
      "text/plain": [
       "(3,)"
      ]
     },
     "execution_count": 42,
     "metadata": {},
     "output_type": "execute_result"
    }
   ],
   "source": [
    "f.shape"
   ]
  },
  {
   "cell_type": "code",
   "execution_count": 43,
   "id": "32e60ceb-17e2-4387-a522-d3ac9daefb3b",
   "metadata": {},
   "outputs": [
    {
     "data": {
      "text/plain": [
       "3"
      ]
     },
     "execution_count": 43,
     "metadata": {},
     "output_type": "execute_result"
    }
   ],
   "source": [
    "f.size"
   ]
  },
  {
   "cell_type": "code",
   "execution_count": 44,
   "id": "badf50da-b07a-4d48-ba0b-5e8d6dc3eddd",
   "metadata": {},
   "outputs": [
    {
     "data": {
      "text/plain": [
       "A     11.0\n",
       "B      4.8\n",
       "C     13.8\n",
       "Name: Inputs, dtype: float64"
      ]
     },
     "execution_count": 44,
     "metadata": {},
     "output_type": "execute_result"
    }
   ],
   "source": [
    "f*2"
   ]
  },
  {
   "cell_type": "code",
   "execution_count": 45,
   "id": "e73114bd-1e25-479a-99f0-c8afa2c69070",
   "metadata": {},
   "outputs": [
    {
     "data": {
      "text/plain": [
       "A     10.5\n",
       "B      7.4\n",
       "C     11.9\n",
       "Name: Inputs, dtype: float64"
      ]
     },
     "execution_count": 45,
     "metadata": {},
     "output_type": "execute_result"
    }
   ],
   "source": [
    "f+5"
   ]
  },
  {
   "cell_type": "code",
   "execution_count": null,
   "id": "473d7301-cea3-46b0-b258-4700657f52f8",
   "metadata": {},
   "outputs": [],
   "source": []
  }
 ],
 "metadata": {
  "kernelspec": {
   "display_name": "Python [conda env:base] *",
   "language": "python",
   "name": "conda-base-py"
  },
  "language_info": {
   "codemirror_mode": {
    "name": "ipython",
    "version": 3
   },
   "file_extension": ".py",
   "mimetype": "text/x-python",
   "name": "python",
   "nbconvert_exporter": "python",
   "pygments_lexer": "ipython3",
   "version": "3.13.5"
  }
 },
 "nbformat": 4,
 "nbformat_minor": 5
}
