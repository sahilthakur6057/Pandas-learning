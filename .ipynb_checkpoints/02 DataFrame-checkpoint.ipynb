{
 "cells": [
  {
   "cell_type": "markdown",
   "id": "107aee4d-1594-4b72-8da6-c5aaa2360b7e",
   "metadata": {},
   "source": [
    "### DATAFRAME - TABLE"
   ]
  },
  {
   "cell_type": "markdown",
   "id": "f6e32002-3a0c-44a6-b533-ec7cb170c16c",
   "metadata": {},
   "source": [
    "#### Series - Row and Column"
   ]
  },
  {
   "cell_type": "code",
   "execution_count": 2,
   "id": "eb7f02bb-a757-4202-94fe-1ef85a5c6b7b",
   "metadata": {},
   "outputs": [],
   "source": [
    "import numpy as np\n",
    "import pandas as pd"
   ]
  },
  {
   "cell_type": "code",
   "execution_count": 3,
   "id": "f6f4717c-5aa3-4ea8-90ad-a191513fae8b",
   "metadata": {},
   "outputs": [],
   "source": [
    "a = [\"SAHIL\", \"HAPPY\",\"UJWAL\"]"
   ]
  },
  {
   "cell_type": "code",
   "execution_count": 5,
   "id": "66b97a3d-bdff-4a9e-8ab3-8249d4afd3ef",
   "metadata": {},
   "outputs": [],
   "source": [
    "a = pd.DataFrame(a)"
   ]
  },
  {
   "cell_type": "code",
   "execution_count": 6,
   "id": "0ec2a113-2854-4078-b512-def3d3cd5424",
   "metadata": {},
   "outputs": [
    {
     "data": {
      "text/html": [
       "<div>\n",
       "<style scoped>\n",
       "    .dataframe tbody tr th:only-of-type {\n",
       "        vertical-align: middle;\n",
       "    }\n",
       "\n",
       "    .dataframe tbody tr th {\n",
       "        vertical-align: top;\n",
       "    }\n",
       "\n",
       "    .dataframe thead th {\n",
       "        text-align: right;\n",
       "    }\n",
       "</style>\n",
       "<table border=\"1\" class=\"dataframe\">\n",
       "  <thead>\n",
       "    <tr style=\"text-align: right;\">\n",
       "      <th></th>\n",
       "      <th>0</th>\n",
       "    </tr>\n",
       "  </thead>\n",
       "  <tbody>\n",
       "    <tr>\n",
       "      <th>0</th>\n",
       "      <td>SAHIL</td>\n",
       "    </tr>\n",
       "    <tr>\n",
       "      <th>1</th>\n",
       "      <td>HAPPY</td>\n",
       "    </tr>\n",
       "    <tr>\n",
       "      <th>2</th>\n",
       "      <td>UJWAL</td>\n",
       "    </tr>\n",
       "  </tbody>\n",
       "</table>\n",
       "</div>"
      ],
      "text/plain": [
       "       0\n",
       "0  SAHIL\n",
       "1  HAPPY\n",
       "2  UJWAL"
      ]
     },
     "execution_count": 6,
     "metadata": {},
     "output_type": "execute_result"
    }
   ],
   "source": [
    "a "
   ]
  },
  {
   "cell_type": "code",
   "execution_count": 18,
   "id": "c31276bb-76f2-47dc-9853-412df7590c3f",
   "metadata": {},
   "outputs": [],
   "source": [
    "b = [\"SAHIL\", \"HAPPY\",\"UJWAL\",\"Rohit\"]"
   ]
  },
  {
   "cell_type": "code",
   "execution_count": 19,
   "id": "df3df1c0-567d-45a2-b30b-811ada3dc068",
   "metadata": {},
   "outputs": [],
   "source": [
    "b = pd.DataFrame(b, index=[\"A\",\"B\",\"C\",\"D\"], columns=[\"Students\"])"
   ]
  },
  {
   "cell_type": "code",
   "execution_count": 20,
   "id": "d233357d-0f96-4220-ad22-c837205559fb",
   "metadata": {},
   "outputs": [
    {
     "data": {
      "text/html": [
       "<div>\n",
       "<style scoped>\n",
       "    .dataframe tbody tr th:only-of-type {\n",
       "        vertical-align: middle;\n",
       "    }\n",
       "\n",
       "    .dataframe tbody tr th {\n",
       "        vertical-align: top;\n",
       "    }\n",
       "\n",
       "    .dataframe thead th {\n",
       "        text-align: right;\n",
       "    }\n",
       "</style>\n",
       "<table border=\"1\" class=\"dataframe\">\n",
       "  <thead>\n",
       "    <tr style=\"text-align: right;\">\n",
       "      <th></th>\n",
       "      <th>Students</th>\n",
       "    </tr>\n",
       "  </thead>\n",
       "  <tbody>\n",
       "    <tr>\n",
       "      <th>A</th>\n",
       "      <td>SAHIL</td>\n",
       "    </tr>\n",
       "    <tr>\n",
       "      <th>B</th>\n",
       "      <td>HAPPY</td>\n",
       "    </tr>\n",
       "    <tr>\n",
       "      <th>C</th>\n",
       "      <td>UJWAL</td>\n",
       "    </tr>\n",
       "    <tr>\n",
       "      <th>D</th>\n",
       "      <td>Rohit</td>\n",
       "    </tr>\n",
       "  </tbody>\n",
       "</table>\n",
       "</div>"
      ],
      "text/plain": [
       "  Students\n",
       "A    SAHIL\n",
       "B    HAPPY\n",
       "C    UJWAL\n",
       "D    Rohit"
      ]
     },
     "execution_count": 20,
     "metadata": {},
     "output_type": "execute_result"
    }
   ],
   "source": [
    "b"
   ]
  },
  {
   "cell_type": "code",
   "execution_count": 21,
   "id": "e868560e-ae3f-4246-8372-97bee72354b6",
   "metadata": {},
   "outputs": [
    {
     "data": {
      "text/plain": [
       "pandas.core.frame.DataFrame"
      ]
     },
     "execution_count": 21,
     "metadata": {},
     "output_type": "execute_result"
    }
   ],
   "source": [
    "type(b)"
   ]
  },
  {
   "cell_type": "code",
   "execution_count": 22,
   "id": "d335c649-e9f7-4385-86fb-04fc63d2bdeb",
   "metadata": {},
   "outputs": [
    {
     "data": {
      "text/plain": [
       "pandas.core.series.Series"
      ]
     },
     "execution_count": 22,
     "metadata": {},
     "output_type": "execute_result"
    }
   ],
   "source": [
    "type(b['Students'])"
   ]
  },
  {
   "cell_type": "code",
   "execution_count": null,
   "id": "8abcf6a6-fc85-444e-adae-8f8dbdc0cf46",
   "metadata": {},
   "outputs": [],
   "source": []
  },
  {
   "cell_type": "markdown",
   "id": "14f86309-308c-4709-9d34-e32d33f33f95",
   "metadata": {},
   "source": [
    "#### Multipe series"
   ]
  },
  {
   "cell_type": "code",
   "execution_count": 23,
   "id": "d06f279e-906e-4145-9c75-a47028113c29",
   "metadata": {},
   "outputs": [],
   "source": [
    "names = [\"SAHIL\", \"HAPPY\",\"UJWAL\"]\n",
    "marks = [50, 20, 60]"
   ]
  },
  {
   "cell_type": "code",
   "execution_count": 24,
   "id": "255c8b42-1437-45fb-beb5-cd094617da02",
   "metadata": {},
   "outputs": [
    {
     "data": {
      "text/html": [
       "<div>\n",
       "<style scoped>\n",
       "    .dataframe tbody tr th:only-of-type {\n",
       "        vertical-align: middle;\n",
       "    }\n",
       "\n",
       "    .dataframe tbody tr th {\n",
       "        vertical-align: top;\n",
       "    }\n",
       "\n",
       "    .dataframe thead th {\n",
       "        text-align: right;\n",
       "    }\n",
       "</style>\n",
       "<table border=\"1\" class=\"dataframe\">\n",
       "  <thead>\n",
       "    <tr style=\"text-align: right;\">\n",
       "      <th></th>\n",
       "      <th>0</th>\n",
       "      <th>1</th>\n",
       "      <th>2</th>\n",
       "    </tr>\n",
       "  </thead>\n",
       "  <tbody>\n",
       "    <tr>\n",
       "      <th>0</th>\n",
       "      <td>SAHIL</td>\n",
       "      <td>HAPPY</td>\n",
       "      <td>UJWAL</td>\n",
       "    </tr>\n",
       "    <tr>\n",
       "      <th>1</th>\n",
       "      <td>50</td>\n",
       "      <td>20</td>\n",
       "      <td>60</td>\n",
       "    </tr>\n",
       "  </tbody>\n",
       "</table>\n",
       "</div>"
      ],
      "text/plain": [
       "       0      1      2\n",
       "0  SAHIL  HAPPY  UJWAL\n",
       "1     50     20     60"
      ]
     },
     "execution_count": 24,
     "metadata": {},
     "output_type": "execute_result"
    }
   ],
   "source": [
    "pd.DataFrame([names, marks])"
   ]
  },
  {
   "cell_type": "code",
   "execution_count": 25,
   "id": "2e0f8693-4548-4bcf-8f1a-d38b4c587ee9",
   "metadata": {},
   "outputs": [
    {
     "data": {
      "text/html": [
       "<div>\n",
       "<style scoped>\n",
       "    .dataframe tbody tr th:only-of-type {\n",
       "        vertical-align: middle;\n",
       "    }\n",
       "\n",
       "    .dataframe tbody tr th {\n",
       "        vertical-align: top;\n",
       "    }\n",
       "\n",
       "    .dataframe thead th {\n",
       "        text-align: right;\n",
       "    }\n",
       "</style>\n",
       "<table border=\"1\" class=\"dataframe\">\n",
       "  <thead>\n",
       "    <tr style=\"text-align: right;\">\n",
       "      <th></th>\n",
       "      <th>0</th>\n",
       "    </tr>\n",
       "  </thead>\n",
       "  <tbody>\n",
       "    <tr>\n",
       "      <th>50</th>\n",
       "      <td>SAHIL</td>\n",
       "    </tr>\n",
       "    <tr>\n",
       "      <th>20</th>\n",
       "      <td>HAPPY</td>\n",
       "    </tr>\n",
       "    <tr>\n",
       "      <th>60</th>\n",
       "      <td>UJWAL</td>\n",
       "    </tr>\n",
       "  </tbody>\n",
       "</table>\n",
       "</div>"
      ],
      "text/plain": [
       "        0\n",
       "50  SAHIL\n",
       "20  HAPPY\n",
       "60  UJWAL"
      ]
     },
     "execution_count": 25,
     "metadata": {},
     "output_type": "execute_result"
    }
   ],
   "source": [
    "pd.DataFrame(names, marks)"
   ]
  },
  {
   "cell_type": "code",
   "execution_count": 26,
   "id": "bfaf31c1-0a02-4037-ba85-afdae8fc7fde",
   "metadata": {},
   "outputs": [],
   "source": [
    "# Dataframe (data = none, indexx: 'Axes / None' = None , column)"
   ]
  },
  {
   "cell_type": "code",
   "execution_count": 41,
   "id": "5b178ddd-515e-4729-81a4-ced727158d38",
   "metadata": {},
   "outputs": [],
   "source": [
    "row1 = [\"sahil\",27, 'Businessman', 90.4]\n",
    "row2 = [\"happy\",23, 'unemployed', 30.4]\n",
    "row3 = [\"ujwal\",26, 'Teacher', 89.2]"
   ]
  },
  {
   "cell_type": "code",
   "execution_count": 42,
   "id": "bb8b614f-b2c4-4641-a90a-4a2d593adfd1",
   "metadata": {},
   "outputs": [],
   "source": [
    "a = [ row1,row2,row3]"
   ]
  },
  {
   "cell_type": "code",
   "execution_count": 43,
   "id": "3b721980-9315-4f8c-b57c-a2c57d1a447d",
   "metadata": {},
   "outputs": [],
   "source": [
    "b = np.array([row1,row2,row3])"
   ]
  },
  {
   "cell_type": "code",
   "execution_count": 44,
   "id": "64aadb9b-fe1c-4e7c-9afe-497e3490d80e",
   "metadata": {},
   "outputs": [
    {
     "data": {
      "text/plain": [
       "[['sahil', 27, 'Businessman', 90.4],\n",
       " ['happy', 23, 'unemployed', 30.4],\n",
       " ['ujwal', 26, 'Teacher', 89.2]]"
      ]
     },
     "execution_count": 44,
     "metadata": {},
     "output_type": "execute_result"
    }
   ],
   "source": [
    "a"
   ]
  },
  {
   "cell_type": "code",
   "execution_count": 45,
   "id": "afbc09c9-3514-4079-b254-5024be865579",
   "metadata": {},
   "outputs": [
    {
     "data": {
      "text/plain": [
       "array([['sahil', '27', 'Businessman', '90.4'],\n",
       "       ['happy', '23', 'unemployed', '30.4'],\n",
       "       ['ujwal', '26', 'Teacher', '89.2']], dtype='<U32')"
      ]
     },
     "execution_count": 45,
     "metadata": {},
     "output_type": "execute_result"
    }
   ],
   "source": [
    "b"
   ]
  },
  {
   "cell_type": "code",
   "execution_count": 46,
   "id": "32784ab6-6997-4742-aeb1-5db40a0bcbe3",
   "metadata": {},
   "outputs": [
    {
     "data": {
      "text/html": [
       "<div>\n",
       "<style scoped>\n",
       "    .dataframe tbody tr th:only-of-type {\n",
       "        vertical-align: middle;\n",
       "    }\n",
       "\n",
       "    .dataframe tbody tr th {\n",
       "        vertical-align: top;\n",
       "    }\n",
       "\n",
       "    .dataframe thead th {\n",
       "        text-align: right;\n",
       "    }\n",
       "</style>\n",
       "<table border=\"1\" class=\"dataframe\">\n",
       "  <thead>\n",
       "    <tr style=\"text-align: right;\">\n",
       "      <th></th>\n",
       "      <th>0</th>\n",
       "      <th>1</th>\n",
       "      <th>2</th>\n",
       "      <th>3</th>\n",
       "    </tr>\n",
       "  </thead>\n",
       "  <tbody>\n",
       "    <tr>\n",
       "      <th>0</th>\n",
       "      <td>sahil</td>\n",
       "      <td>27</td>\n",
       "      <td>Businessman</td>\n",
       "      <td>90.4</td>\n",
       "    </tr>\n",
       "    <tr>\n",
       "      <th>1</th>\n",
       "      <td>happy</td>\n",
       "      <td>23</td>\n",
       "      <td>unemployed</td>\n",
       "      <td>30.4</td>\n",
       "    </tr>\n",
       "    <tr>\n",
       "      <th>2</th>\n",
       "      <td>ujwal</td>\n",
       "      <td>26</td>\n",
       "      <td>Teacher</td>\n",
       "      <td>89.2</td>\n",
       "    </tr>\n",
       "  </tbody>\n",
       "</table>\n",
       "</div>"
      ],
      "text/plain": [
       "       0   1            2     3\n",
       "0  sahil  27  Businessman  90.4\n",
       "1  happy  23   unemployed  30.4\n",
       "2  ujwal  26      Teacher  89.2"
      ]
     },
     "execution_count": 46,
     "metadata": {},
     "output_type": "execute_result"
    }
   ],
   "source": [
    "pd.DataFrame(a)"
   ]
  },
  {
   "cell_type": "code",
   "execution_count": 47,
   "id": "eeb3815d-c0d4-4701-8488-22e9760cbcbd",
   "metadata": {},
   "outputs": [
    {
     "data": {
      "text/html": [
       "<div>\n",
       "<style scoped>\n",
       "    .dataframe tbody tr th:only-of-type {\n",
       "        vertical-align: middle;\n",
       "    }\n",
       "\n",
       "    .dataframe tbody tr th {\n",
       "        vertical-align: top;\n",
       "    }\n",
       "\n",
       "    .dataframe thead th {\n",
       "        text-align: right;\n",
       "    }\n",
       "</style>\n",
       "<table border=\"1\" class=\"dataframe\">\n",
       "  <thead>\n",
       "    <tr style=\"text-align: right;\">\n",
       "      <th></th>\n",
       "      <th>0</th>\n",
       "      <th>1</th>\n",
       "      <th>2</th>\n",
       "      <th>3</th>\n",
       "    </tr>\n",
       "  </thead>\n",
       "  <tbody>\n",
       "    <tr>\n",
       "      <th>0</th>\n",
       "      <td>sahil</td>\n",
       "      <td>27</td>\n",
       "      <td>Businessman</td>\n",
       "      <td>90.4</td>\n",
       "    </tr>\n",
       "    <tr>\n",
       "      <th>1</th>\n",
       "      <td>happy</td>\n",
       "      <td>23</td>\n",
       "      <td>unemployed</td>\n",
       "      <td>30.4</td>\n",
       "    </tr>\n",
       "    <tr>\n",
       "      <th>2</th>\n",
       "      <td>ujwal</td>\n",
       "      <td>26</td>\n",
       "      <td>Teacher</td>\n",
       "      <td>89.2</td>\n",
       "    </tr>\n",
       "  </tbody>\n",
       "</table>\n",
       "</div>"
      ],
      "text/plain": [
       "       0   1            2     3\n",
       "0  sahil  27  Businessman  90.4\n",
       "1  happy  23   unemployed  30.4\n",
       "2  ujwal  26      Teacher  89.2"
      ]
     },
     "execution_count": 47,
     "metadata": {},
     "output_type": "execute_result"
    }
   ],
   "source": [
    "pd.DataFrame(b)"
   ]
  },
  {
   "cell_type": "code",
   "execution_count": 48,
   "id": "682751be-45ad-4d65-ab9c-ea7738624510",
   "metadata": {},
   "outputs": [],
   "source": [
    "indexes = \"A B C\".split()"
   ]
  },
  {
   "cell_type": "code",
   "execution_count": 49,
   "id": "6f58cb01-9c7f-4b64-9ebf-b1b915cf5efd",
   "metadata": {},
   "outputs": [],
   "source": [
    "columns = \"NAME AGE WORK HEIGHT\".split()"
   ]
  },
  {
   "cell_type": "code",
   "execution_count": 52,
   "id": "7899f7e5-4272-4c6f-9a2b-f732158d0c4a",
   "metadata": {},
   "outputs": [],
   "source": [
    "df = pd.DataFrame(a, index = indexes, columns= columns)"
   ]
  },
  {
   "cell_type": "code",
   "execution_count": 53,
   "id": "9f597b5e-615e-4664-9e14-2ade06768b42",
   "metadata": {},
   "outputs": [
    {
     "data": {
      "text/html": [
       "<div>\n",
       "<style scoped>\n",
       "    .dataframe tbody tr th:only-of-type {\n",
       "        vertical-align: middle;\n",
       "    }\n",
       "\n",
       "    .dataframe tbody tr th {\n",
       "        vertical-align: top;\n",
       "    }\n",
       "\n",
       "    .dataframe thead th {\n",
       "        text-align: right;\n",
       "    }\n",
       "</style>\n",
       "<table border=\"1\" class=\"dataframe\">\n",
       "  <thead>\n",
       "    <tr style=\"text-align: right;\">\n",
       "      <th></th>\n",
       "      <th>NAME</th>\n",
       "      <th>AGE</th>\n",
       "      <th>WORK</th>\n",
       "      <th>HEIGHT</th>\n",
       "    </tr>\n",
       "  </thead>\n",
       "  <tbody>\n",
       "    <tr>\n",
       "      <th>A</th>\n",
       "      <td>sahil</td>\n",
       "      <td>27</td>\n",
       "      <td>Businessman</td>\n",
       "      <td>90.4</td>\n",
       "    </tr>\n",
       "    <tr>\n",
       "      <th>B</th>\n",
       "      <td>happy</td>\n",
       "      <td>23</td>\n",
       "      <td>unemployed</td>\n",
       "      <td>30.4</td>\n",
       "    </tr>\n",
       "    <tr>\n",
       "      <th>C</th>\n",
       "      <td>ujwal</td>\n",
       "      <td>26</td>\n",
       "      <td>Teacher</td>\n",
       "      <td>89.2</td>\n",
       "    </tr>\n",
       "  </tbody>\n",
       "</table>\n",
       "</div>"
      ],
      "text/plain": [
       "    NAME  AGE         WORK  HEIGHT\n",
       "A  sahil   27  Businessman    90.4\n",
       "B  happy   23   unemployed    30.4\n",
       "C  ujwal   26      Teacher    89.2"
      ]
     },
     "execution_count": 53,
     "metadata": {},
     "output_type": "execute_result"
    }
   ],
   "source": [
    "df"
   ]
  },
  {
   "cell_type": "markdown",
   "id": "ce7595c6-3ef7-44d8-9555-15a5efcde938",
   "metadata": {},
   "source": [
    "#### PUTTING DATA THROUGH DICTIONARY"
   ]
  },
  {
   "cell_type": "code",
   "execution_count": 70,
   "id": "5a7eaa6f-58ec-4bce-aeab-d2d62ec3707c",
   "metadata": {},
   "outputs": [],
   "source": [
    "d = {\n",
    "    1:[\"sahil\" , 20 , 'netmax', 63.6],\n",
    "    2:[\"happy\" , 40 , 'dev', 70.2],\n",
    "    3:[\"ujala\" , 25 , 'data', 53.6]\n",
    "    }"
   ]
  },
  {
   "cell_type": "code",
   "execution_count": 71,
   "id": "cf5c3ed1-bf55-4f2a-bc18-83ed6bfebe08",
   "metadata": {},
   "outputs": [
    {
     "data": {
      "text/html": [
       "<div>\n",
       "<style scoped>\n",
       "    .dataframe tbody tr th:only-of-type {\n",
       "        vertical-align: middle;\n",
       "    }\n",
       "\n",
       "    .dataframe tbody tr th {\n",
       "        vertical-align: top;\n",
       "    }\n",
       "\n",
       "    .dataframe thead th {\n",
       "        text-align: right;\n",
       "    }\n",
       "</style>\n",
       "<table border=\"1\" class=\"dataframe\">\n",
       "  <thead>\n",
       "    <tr style=\"text-align: right;\">\n",
       "      <th></th>\n",
       "      <th>1</th>\n",
       "      <th>2</th>\n",
       "      <th>3</th>\n",
       "    </tr>\n",
       "  </thead>\n",
       "  <tbody>\n",
       "    <tr>\n",
       "      <th>0</th>\n",
       "      <td>sahil</td>\n",
       "      <td>happy</td>\n",
       "      <td>ujala</td>\n",
       "    </tr>\n",
       "    <tr>\n",
       "      <th>1</th>\n",
       "      <td>20</td>\n",
       "      <td>40</td>\n",
       "      <td>25</td>\n",
       "    </tr>\n",
       "    <tr>\n",
       "      <th>2</th>\n",
       "      <td>netmax</td>\n",
       "      <td>dev</td>\n",
       "      <td>data</td>\n",
       "    </tr>\n",
       "    <tr>\n",
       "      <th>3</th>\n",
       "      <td>63.6</td>\n",
       "      <td>70.2</td>\n",
       "      <td>53.6</td>\n",
       "    </tr>\n",
       "  </tbody>\n",
       "</table>\n",
       "</div>"
      ],
      "text/plain": [
       "        1      2      3\n",
       "0   sahil  happy  ujala\n",
       "1      20     40     25\n",
       "2  netmax    dev   data\n",
       "3    63.6   70.2   53.6"
      ]
     },
     "execution_count": 71,
     "metadata": {},
     "output_type": "execute_result"
    }
   ],
   "source": [
    "pd.DataFrame(d)"
   ]
  },
  {
   "cell_type": "code",
   "execution_count": 76,
   "id": "56572079-b295-4db5-aa17-97aad56500d2",
   "metadata": {},
   "outputs": [],
   "source": [
    "d = {\n",
    "    \"name\":[\"sahil\" , \"happy\" , \"ujala\"],\n",
    "    \"age\": [20,25,30],\n",
    "    \"weight\": [71.4,53.2,60.3]   \n",
    "}"
   ]
  },
  {
   "cell_type": "code",
   "execution_count": 77,
   "id": "79e33a1f-ed87-4066-b847-d40d0c13b1e4",
   "metadata": {},
   "outputs": [
    {
     "data": {
      "text/html": [
       "<div>\n",
       "<style scoped>\n",
       "    .dataframe tbody tr th:only-of-type {\n",
       "        vertical-align: middle;\n",
       "    }\n",
       "\n",
       "    .dataframe tbody tr th {\n",
       "        vertical-align: top;\n",
       "    }\n",
       "\n",
       "    .dataframe thead th {\n",
       "        text-align: right;\n",
       "    }\n",
       "</style>\n",
       "<table border=\"1\" class=\"dataframe\">\n",
       "  <thead>\n",
       "    <tr style=\"text-align: right;\">\n",
       "      <th></th>\n",
       "      <th>name</th>\n",
       "      <th>age</th>\n",
       "      <th>weight</th>\n",
       "    </tr>\n",
       "  </thead>\n",
       "  <tbody>\n",
       "    <tr>\n",
       "      <th>0</th>\n",
       "      <td>sahil</td>\n",
       "      <td>20</td>\n",
       "      <td>71.4</td>\n",
       "    </tr>\n",
       "    <tr>\n",
       "      <th>1</th>\n",
       "      <td>happy</td>\n",
       "      <td>25</td>\n",
       "      <td>53.2</td>\n",
       "    </tr>\n",
       "    <tr>\n",
       "      <th>2</th>\n",
       "      <td>ujala</td>\n",
       "      <td>30</td>\n",
       "      <td>60.3</td>\n",
       "    </tr>\n",
       "  </tbody>\n",
       "</table>\n",
       "</div>"
      ],
      "text/plain": [
       "    name  age  weight\n",
       "0  sahil   20    71.4\n",
       "1  happy   25    53.2\n",
       "2  ujala   30    60.3"
      ]
     },
     "execution_count": 77,
     "metadata": {},
     "output_type": "execute_result"
    }
   ],
   "source": [
    "pd.DataFrame(d)"
   ]
  },
  {
   "cell_type": "code",
   "execution_count": 78,
   "id": "a1f56bb8-7f1d-4630-8bc6-2eeef3bdf838",
   "metadata": {},
   "outputs": [
    {
     "data": {
      "text/html": [
       "<div>\n",
       "<style scoped>\n",
       "    .dataframe tbody tr th:only-of-type {\n",
       "        vertical-align: middle;\n",
       "    }\n",
       "\n",
       "    .dataframe tbody tr th {\n",
       "        vertical-align: top;\n",
       "    }\n",
       "\n",
       "    .dataframe thead th {\n",
       "        text-align: right;\n",
       "    }\n",
       "</style>\n",
       "<table border=\"1\" class=\"dataframe\">\n",
       "  <thead>\n",
       "    <tr style=\"text-align: right;\">\n",
       "      <th></th>\n",
       "      <th>name</th>\n",
       "      <th>age</th>\n",
       "      <th>weight</th>\n",
       "    </tr>\n",
       "  </thead>\n",
       "  <tbody>\n",
       "    <tr>\n",
       "      <th>100</th>\n",
       "      <td>sahil</td>\n",
       "      <td>20</td>\n",
       "      <td>71.4</td>\n",
       "    </tr>\n",
       "    <tr>\n",
       "      <th>101</th>\n",
       "      <td>happy</td>\n",
       "      <td>25</td>\n",
       "      <td>53.2</td>\n",
       "    </tr>\n",
       "    <tr>\n",
       "      <th>102</th>\n",
       "      <td>ujala</td>\n",
       "      <td>30</td>\n",
       "      <td>60.3</td>\n",
       "    </tr>\n",
       "  </tbody>\n",
       "</table>\n",
       "</div>"
      ],
      "text/plain": [
       "      name  age  weight\n",
       "100  sahil   20    71.4\n",
       "101  happy   25    53.2\n",
       "102  ujala   30    60.3"
      ]
     },
     "execution_count": 78,
     "metadata": {},
     "output_type": "execute_result"
    }
   ],
   "source": [
    "pd.DataFrame(d, index=range(100,103))"
   ]
  },
  {
   "cell_type": "code",
   "execution_count": null,
   "id": "f56be93c-1236-4a0c-981f-990098dfa2b2",
   "metadata": {},
   "outputs": [],
   "source": []
  }
 ],
 "metadata": {
  "kernelspec": {
   "display_name": "Python [conda env:base] *",
   "language": "python",
   "name": "conda-base-py"
  },
  "language_info": {
   "codemirror_mode": {
    "name": "ipython",
    "version": 3
   },
   "file_extension": ".py",
   "mimetype": "text/x-python",
   "name": "python",
   "nbconvert_exporter": "python",
   "pygments_lexer": "ipython3",
   "version": "3.13.5"
  }
 },
 "nbformat": 4,
 "nbformat_minor": 5
}
